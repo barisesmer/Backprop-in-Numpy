{
 "cells": [
  {
   "cell_type": "markdown",
   "metadata": {},
   "source": [
    "### Note\n",
    "While working with the datasets, I have observed that the choice of hyper-parameters makes a **huge** difference. So, if you want to try this on your own dataset, make sure to try bunch of different hyper-parameter settings."
   ]
  },
  {
   "cell_type": "code",
   "execution_count": 1,
   "metadata": {},
   "outputs": [],
   "source": [
    "import numpy as np\n",
    "np.set_printoptions(suppress=True)\n",
    "\n",
    "from nn import NN\n",
    "\n",
    "import matplotlib.pyplot as plt\n",
    "from sklearn.model_selection import train_test_split\n",
    "from sklearn.datasets import load_breast_cancer, load_digits, load_iris"
   ]
  },
  {
   "cell_type": "markdown",
   "metadata": {},
   "source": [
    "### Train-Test Split and Adjust Dimensions"
   ]
  },
  {
   "cell_type": "code",
   "execution_count": 2,
   "metadata": {},
   "outputs": [],
   "source": [
    "def split_dataset(X,y):\n",
    "    # size of X : [num_input x num_dimension]\n",
    "    train_X, test_X, train_y, test_y = train_test_split(X, y, test_size=0.2)\n",
    "    train_X = train_X.T\n",
    "    test_X = test_X.T\n",
    "    \n",
    "    \n",
    "    return train_X, train_y, test_X, test_y\n",
    "\n",
    "def normalize_data(train_X, test_X):\n",
    "    means = np.mean(train_X, axis = 1, keepdims=True)\n",
    "    std_dev = np.std(train_X, axis = 1, keepdims=True)\n",
    "\n",
    "    train_X = (train_X - means)/std_dev\n",
    "    test_X = (test_X - means)/std_dev\n",
    "    \n",
    "    return train_X, test_X, means, std_dev"
   ]
  },
  {
   "cell_type": "markdown",
   "metadata": {},
   "source": [
    "## Datasets"
   ]
  },
  {
   "cell_type": "markdown",
   "metadata": {},
   "source": [
    "#### 1) Create Test Dataset from sklearn"
   ]
  },
  {
   "cell_type": "code",
   "execution_count": 3,
   "metadata": {
    "scrolled": false
   },
   "outputs": [
    {
     "name": "stdout",
     "output_type": "stream",
     "text": [
      "(1000, 2) (1000, 1)\n"
     ]
    },
    {
     "data": {
      "image/png": "[encoded data removed]",
      "text/plain": [
       "<Figure size 432x288 with 1 Axes>"
      ]
     },
     "metadata": {
      "needs_background": "light"
     },
     "output_type": "display_data"
    }
   ],
   "source": [
    "# From https://machinelearningmastery.com/generate-test-datasets-python-scikit-learn/\n",
    "from sklearn.datasets.samples_generator import make_blobs, make_moons, make_regression,make_s_curve, make_friedman1\n",
    "from matplotlib import pyplot\n",
    "from pandas import DataFrame\n",
    "# generate 2d classification dataset\n",
    "X_1,y_1 = make_moons(n_samples=1000)\n",
    "y_1 = np.array(y_1).reshape((len(y_1),1))\n",
    "#X, y = make_blobs(n_samples=1000, centers=2, n_features=2)\n",
    "\n",
    "# scatter plot, dots colored by class value\n",
    "df = DataFrame(dict(x=X_1[:,0], y=X_1[:,1], label=y_1.squeeze()))\n",
    "colors = {0:'red', 1:'blue', 2:'green'}\n",
    "fig, ax = pyplot.subplots()\n",
    "grouped = df.groupby('label')\n",
    "print(X_1.shape, y_1.shape)\n",
    "for key, group in grouped:\n",
    "    group.plot(ax=ax, kind='scatter', x='x', y='y', label=key, color=colors[key])\n",
    "pyplot.show()"
   ]
  },
  {
   "cell_type": "code",
   "execution_count": 4,
   "metadata": {},
   "outputs": [
    {
     "data": {
      "text/plain": [
       "((2, 800), (1, 800), (2, 200), (1, 200))"
      ]
     },
     "execution_count": 4,
     "metadata": {},
     "output_type": "execute_result"
    }
   ],
   "source": [
    "train_X, train_y, test_X, test_y = split_dataset(X_1,y_1)\n",
    "\n",
    "train_y = train_y.reshape((1, len(train_y)))\n",
    "test_y = test_y.reshape((1, len(test_y)))\n",
    "\n",
    "# normalize_data\n",
    "train_X, test_X, means, std_dev = normalize_data(train_X, test_X)\n",
    "\n",
    "train_X.shape, train_y.shape, test_X.shape, test_y.shape"
   ]
  },
  {
   "cell_type": "code",
   "execution_count": 5,
   "metadata": {},
   "outputs": [
    {
     "name": "stdout",
     "output_type": "stream",
     "text": [
      "0\n",
      "1\n",
      "2\n",
      "Cost after iteration 0: 0.746463\n",
      "Cost after iteration 100: 0.163297\n",
      "Cost after iteration 200: 0.079412\n",
      "Cost after iteration 300: 0.041008\n",
      "Cost after iteration 400: 0.024215\n",
      "Cost after iteration 500: 0.015988\n",
      "Cost after iteration 600: 0.011450\n",
      "Cost after iteration 700: 0.008692\n",
      "Cost after iteration 800: 0.006888\n",
      "Cost after iteration 900: 0.005637\n",
      "Cost after iteration 1000: 0.004730\n",
      "Cost after iteration 1100: 0.004048\n",
      "Cost after iteration 1200: 0.003521\n",
      "Cost after iteration 1300: 0.003103\n",
      "Cost after iteration 1400: 0.002765\n",
      "Cost after iteration 1500: 0.002487\n",
      "Cost after iteration 1600: 0.002254\n",
      "Cost after iteration 1700: 0.002058\n",
      "Cost after iteration 1800: 0.001890\n",
      "Cost after iteration 1900: 0.001746\n",
      "Cost after iteration 2000: 0.001619\n",
      "Cost after iteration 2100: 0.001509\n",
      "Cost after iteration 2200: 0.001411\n",
      "Cost after iteration 2300: 0.001324\n",
      "Cost after iteration 2400: 0.001246\n",
      "Cost after iteration 2500: 0.001177\n",
      "Cost after iteration 2600: 0.001113\n",
      "Cost after iteration 2700: 0.001056\n",
      "Cost after iteration 2800: 0.001004\n",
      "Cost after iteration 2900: 0.000957\n",
      "Cost after iteration 3000: 0.000913\n",
      "Cost after iteration 3100: 0.000873\n",
      "Cost after iteration 3200: 0.000836\n",
      "Cost after iteration 3300: 0.000801\n",
      "Cost after iteration 3400: 0.000769\n",
      "Cost after iteration 3500: 0.000740\n",
      "Cost after iteration 3600: 0.000712\n",
      "Cost after iteration 3700: 0.000687\n",
      "Cost after iteration 3800: 0.000663\n",
      "Cost after iteration 3900: 0.000640\n",
      "Cost after iteration 4000: 0.000619\n",
      "Cost after iteration 4100: 0.000599\n",
      "Cost after iteration 4200: 0.000580\n",
      "Cost after iteration 4300: 0.000562\n",
      "Cost after iteration 4400: 0.000545\n",
      "Cost after iteration 4500: 0.000529\n",
      "Cost after iteration 4600: 0.000514\n",
      "Cost after iteration 4700: 0.000500\n",
      "Cost after iteration 4800: 0.000487\n",
      "Cost after iteration 4900: 0.000474\n"
     ]
    },
    {
     "data": {
      "text/plain": [
       "[<matplotlib.lines.Line2D at 0x1a1af62470>]"
      ]
     },
     "execution_count": 5,
     "metadata": {},
     "output_type": "execute_result"
    },
    {
     "data": {
      "image/png": "[encoded data removed]",
      "text/plain": [
       "<Figure size 432x288 with 1 Axes>"
      ]
     },
     "metadata": {
      "needs_background": "light"
     },
     "output_type": "display_data"
    }
   ],
   "source": [
    "description = [{\"layer_size\" : 70, \"activation\" : \"tanh\"},\n",
    "               {\"layer_size\" : 70, \"activation\" : \"tanh\"},\n",
    "               {\"layer_size\" : 1, \"activation\" : \"sigmoid\"}]\n",
    "\n",
    "model = NN(description,2,\"cross_entropy_sigmoid\", train_X, train_y, learning_rate=0.1)\n",
    "\n",
    "history = model.train(5000)\n",
    "\n",
    "plt.plot(history)\n",
    "\n"
   ]
  },
  {
   "cell_type": "code",
   "execution_count": 6,
   "metadata": {},
   "outputs": [
    {
     "data": {
      "text/plain": [
       "<matplotlib.collections.PathCollection at 0x1a1afcd5c0>"
      ]
     },
     "execution_count": 6,
     "metadata": {},
     "output_type": "execute_result"
    },
    {
     "data": {
      "image/png": "[encoded data removed]",
      "text/plain": [
       "<Figure size 432x288 with 1 Axes>"
      ]
     },
     "metadata": {
      "needs_background": "light"
     },
     "output_type": "display_data"
    }
   ],
   "source": [
    "h = .01  # step size in the mesh\n",
    "x_min, x_max = train_X[0, :].min() - 1, train_X[0,:].max() + 1\n",
    "y_min, y_max = train_X[1,:].min() - 1, train_X.T[1:,].max() + 1\n",
    "xx, yy = np.meshgrid(np.arange(x_min, x_max, h),\n",
    "                     np.arange(y_min, y_max, h))\n",
    "\n",
    "points = np.vstack((xx.ravel(), yy.ravel()))\n",
    "\n",
    "model.data = points\n",
    "model.forward_pass()\n",
    "predictions  = np.where(model.layers[-1].A > 0.5, 1, 0).T\n",
    "\n",
    "predictions = predictions.reshape(xx.shape)\n",
    "predictions.shape\n",
    "\n",
    "plt.contourf(xx, yy, predictions, cmap=plt.cm.Paired, alpha=0.8)\n",
    "plt.scatter(train_X.T[:, 0], train_X.T[:, 1], c=np.squeeze(train_y))"
   ]
  },
  {
   "cell_type": "markdown",
   "metadata": {},
   "source": [
    "#### 2) Load From Existing Datasets from sklearn"
   ]
  },
  {
   "cell_type": "code",
   "execution_count": 7,
   "metadata": {},
   "outputs": [],
   "source": [
    "res = load_breast_cancer(return_X_y=True)\n",
    "\n",
    "X_2,y_2 = res\n",
    "y_2 = y_2.reshape((len(y_2), 1))"
   ]
  },
  {
   "cell_type": "code",
   "execution_count": 8,
   "metadata": {},
   "outputs": [
    {
     "data": {
      "text/plain": [
       "((30, 455), (1, 455), (30, 114), (1, 114))"
      ]
     },
     "execution_count": 8,
     "metadata": {},
     "output_type": "execute_result"
    }
   ],
   "source": [
    "train_X, train_y, test_X, test_y = split_dataset(X_2,y_2)\n",
    "\n",
    "train_y = train_y.reshape((1, len(train_y)))\n",
    "test_y = test_y.reshape((1, len(test_y)))\n",
    "\n",
    "# normalize_data\n",
    "train_X, test_X, means, std_dev = normalize_data(train_X, test_X)\n",
    "\n",
    "train_X.shape, train_y.shape, test_X.shape, test_y.shape"
   ]
  },
  {
   "cell_type": "code",
   "execution_count": 9,
   "metadata": {},
   "outputs": [
    {
     "name": "stdout",
     "output_type": "stream",
     "text": [
      "0\n",
      "1\n",
      "2\n",
      "3\n",
      "Cost after iteration 0: 0.740955\n",
      "Cost after iteration 100: 0.628203\n",
      "Cost after iteration 200: 0.456912\n",
      "Cost after iteration 300: 0.285562\n",
      "Cost after iteration 400: 0.198122\n",
      "Cost after iteration 500: 0.153824\n",
      "Cost after iteration 600: 0.126617\n",
      "Cost after iteration 700: 0.108545\n",
      "Cost after iteration 800: 0.096024\n",
      "Cost after iteration 900: 0.087029\n",
      "Cost after iteration 1000: 0.080371\n",
      "Cost after iteration 1100: 0.075228\n",
      "Cost after iteration 1200: 0.071104\n",
      "Cost after iteration 1300: 0.067722\n",
      "Cost after iteration 1400: 0.064847\n",
      "Cost after iteration 1500: 0.062305\n",
      "Cost after iteration 1600: 0.060050\n",
      "Cost after iteration 1700: 0.058058\n",
      "Cost after iteration 1800: 0.056242\n",
      "Cost after iteration 1900: 0.054576\n",
      "Cost after iteration 2000: 0.053018\n",
      "Cost after iteration 2100: 0.051558\n",
      "Cost after iteration 2200: 0.050191\n",
      "Cost after iteration 2300: 0.048904\n",
      "Cost after iteration 2400: 0.047670\n",
      "Cost after iteration 2500: 0.046480\n",
      "Cost after iteration 2600: 0.045329\n",
      "Cost after iteration 2700: 0.044214\n",
      "Cost after iteration 2800: 0.043133\n",
      "Cost after iteration 2900: 0.042094\n"
     ]
    },
    {
     "data": {
      "text/plain": [
       "[<matplotlib.lines.Line2D at 0x1a1b036278>]"
      ]
     },
     "execution_count": 9,
     "metadata": {},
     "output_type": "execute_result"
    },
    {
     "data": {
      "image/png": "[encoded data removed]",
      "text/plain": [
       "<Figure size 432x288 with 1 Axes>"
      ]
     },
     "metadata": {
      "needs_background": "light"
     },
     "output_type": "display_data"
    }
   ],
   "source": [
    "description = [{\"layer_size\" : 100, \"activation\" : \"relu\"},\n",
    "               {\"layer_size\" : 50, \"activation\" : \"relu\"},\n",
    "               {\"layer_size\" : 10, \"activation\" : \"relu\"},\n",
    "               {\"layer_size\" : 1, \"activation\" : \"sigmoid\"}]\n",
    "\n",
    "model = NN(description,30,\"cross_entropy_sigmoid\", train_X, train_y, learning_rate=0.0075)\n",
    "\n",
    "history = model.train(3000)\n",
    "\n",
    "plt.plot(history)"
   ]
  },
  {
   "cell_type": "code",
   "execution_count": 10,
   "metadata": {},
   "outputs": [
    {
     "name": "stdout",
     "output_type": "stream",
     "text": [
      "Accuracy of the model on the training set is = 0.9912087912087912\n",
      "Accuracy of the model on the test set is = 0.9912280701754386\n"
     ]
    }
   ],
   "source": [
    "acc = model.calculate_accuracy(train_X, train_y)\n",
    "print(\"Accuracy of the model on the training set is = {}\".format(acc))\n",
    "\n",
    "acc = model.calculate_accuracy(test_X, test_y)\n",
    "print(\"Accuracy of the model on the test set is = {}\".format(acc))"
   ]
  },
  {
   "cell_type": "markdown",
   "metadata": {},
   "source": [
    "#### 3) Create Regression Data"
   ]
  },
  {
   "cell_type": "code",
   "execution_count": 11,
   "metadata": {},
   "outputs": [],
   "source": [
    "def create_data(x):\n",
    "    eps = np.random.normal(0,0.02)\n",
    "    return x + 0.3*np.sin(2*np.pi*(x + eps)) + 0.3*np.sin(4*np.pi*(x + eps)) + eps"
   ]
  },
  {
   "cell_type": "code",
   "execution_count": 12,
   "metadata": {},
   "outputs": [
    {
     "data": {
      "image/png": "[encoded data removed]",
      "text/plain": [
       "<Figure size 432x288 with 1 Axes>"
      ]
     },
     "metadata": {
      "needs_background": "light"
     },
     "output_type": "display_data"
    }
   ],
   "source": [
    "X_3 = []\n",
    "y_3 = []\n",
    "xs = np.arange(0,0.5,0.01)\n",
    "\n",
    "for i in range(10):\n",
    "    for x in xs:\n",
    "        X_3.append(x)\n",
    "        y_3.append(create_data(x))\n",
    "plt.scatter(X_3,y_3,marker=\"*\");\n",
    "\n",
    "X_3 = np.array(X_3).reshape((len(X_3),1))\n",
    "y_3 = np.array(y_3).reshape((len(y_3),1))"
   ]
  },
  {
   "cell_type": "code",
   "execution_count": 13,
   "metadata": {},
   "outputs": [
    {
     "data": {
      "text/plain": [
       "((1, 400), (1, 400), (1, 100), (1, 100))"
      ]
     },
     "execution_count": 13,
     "metadata": {},
     "output_type": "execute_result"
    }
   ],
   "source": [
    "train_X, train_y, test_X, test_y = split_dataset(X_3,y_3)\n",
    "\n",
    "train_y = train_y.reshape((1, len(train_y)))\n",
    "test_y = test_y.reshape((1, len(test_y)))\n",
    "\n",
    "# normalize_data\n",
    "#train_X, test_X, means, std_dev = normalize_data(train_X, test_X)\n",
    "\n",
    "train_X.shape, train_y.shape, test_X.shape, test_y.shape"
   ]
  },
  {
   "cell_type": "code",
   "execution_count": 14,
   "metadata": {
    "scrolled": true
   },
   "outputs": [
    {
     "name": "stdout",
     "output_type": "stream",
     "text": [
      "0\n",
      "1\n",
      "2\n",
      "3\n",
      "4\n",
      "Cost after iteration 0: 0.085222\n",
      "Cost after iteration 100: 0.012847\n",
      "Cost after iteration 200: 0.014052\n",
      "Cost after iteration 300: 0.005300\n",
      "Cost after iteration 400: 0.004423\n",
      "Cost after iteration 500: 0.003611\n",
      "Cost after iteration 600: 0.003328\n",
      "Cost after iteration 700: 0.003011\n",
      "Cost after iteration 800: 0.002845\n",
      "Cost after iteration 900: 0.002941\n",
      "Cost after iteration 1000: 0.002849\n",
      "Cost after iteration 1100: 0.002618\n",
      "Cost after iteration 1200: 0.003195\n",
      "Cost after iteration 1300: 0.003114\n",
      "Cost after iteration 1400: 0.002933\n",
      "Cost after iteration 1500: 0.002668\n",
      "Cost after iteration 1600: 0.002596\n",
      "Cost after iteration 1700: 0.002578\n",
      "Cost after iteration 1800: 0.002559\n",
      "Cost after iteration 1900: 0.002717\n",
      "Cost after iteration 2000: 0.002678\n",
      "Cost after iteration 2100: 0.002366\n",
      "Cost after iteration 2200: 0.002320\n",
      "Cost after iteration 2300: 0.002694\n",
      "Cost after iteration 2400: 0.002323\n",
      "Cost after iteration 2500: 0.002273\n",
      "Cost after iteration 2600: 0.002456\n",
      "Cost after iteration 2700: 0.002488\n",
      "Cost after iteration 2800: 0.002122\n",
      "Cost after iteration 2900: 0.002860\n",
      "Cost after iteration 3000: 0.002061\n",
      "Cost after iteration 3100: 0.002580\n",
      "Cost after iteration 3200: 0.002037\n",
      "Cost after iteration 3300: 0.002656\n",
      "Cost after iteration 3400: 0.002026\n",
      "Cost after iteration 3500: 0.002733\n",
      "Cost after iteration 3600: 0.002035\n",
      "Cost after iteration 3700: 0.002613\n",
      "Cost after iteration 3800: 0.002083\n",
      "Cost after iteration 3900: 0.002228\n",
      "Cost after iteration 4000: 0.002408\n",
      "Cost after iteration 4100: 0.002069\n",
      "Cost after iteration 4200: 0.002317\n",
      "Cost after iteration 4300: 0.002101\n",
      "Cost after iteration 4400: 0.002228\n",
      "Cost after iteration 4500: 0.002135\n",
      "Cost after iteration 4600: 0.002174\n",
      "Cost after iteration 4700: 0.002156\n",
      "Cost after iteration 4800: 0.002159\n",
      "Cost after iteration 4900: 0.002141\n"
     ]
    },
    {
     "data": {
      "text/plain": [
       "[<matplotlib.lines.Line2D at 0x1a43a4a400>]"
      ]
     },
     "execution_count": 14,
     "metadata": {},
     "output_type": "execute_result"
    },
    {
     "data": {
      "image/png": "[encoded data removed]",
      "text/plain": [
       "<Figure size 432x288 with 1 Axes>"
      ]
     },
     "metadata": {
      "needs_background": "light"
     },
     "output_type": "display_data"
    }
   ],
   "source": [
    "description = [{\"layer_size\" : 32, \"activation\" : \"relu\"},\n",
    "               {\"layer_size\" : 16, \"activation\" : \"relu\"},\n",
    "               {\"layer_size\" : 8, \"activation\" : \"relu\"},\n",
    "               {\"layer_size\" : 4, \"activation\" : \"relu\"},\n",
    "               {\"layer_size\" : 1, \"activation\" : \"linear\"}]\n",
    "\n",
    "model = NN(description,1,\"mean_squared\", train_X, train_y, learning_rate=0.75)\n",
    "\n",
    "history = model.train(5000)\n",
    "\n",
    "plt.plot(history)"
   ]
  },
  {
   "cell_type": "code",
   "execution_count": 15,
   "metadata": {},
   "outputs": [
    {
     "data": {
      "text/plain": [
       "<matplotlib.collections.PathCollection at 0x1a43a89780>"
      ]
     },
     "execution_count": 15,
     "metadata": {},
     "output_type": "execute_result"
    },
    {
     "data": {
      "image/png": "[encoded data removed]",
      "text/plain": [
       "<Figure size 432x288 with 1 Axes>"
      ]
     },
     "metadata": {
      "needs_background": "light"
     },
     "output_type": "display_data"
    }
   ],
   "source": [
    "t = np.arange(-0.5,1,0.01)\n",
    "t = t.reshape((1,len(t)))\n",
    "model.data = t\n",
    "model.forward_pass()\n",
    "output = model.layers[-1].A\n",
    "plt.scatter(train_X, train_y, marker='o', s=0.2)  # plot x vs y\n",
    "plt.scatter(t, output, marker='o', s=7)  # plot x vs y"
   ]
  }
 ],
 "metadata": {
  "kernelspec": {
   "display_name": "Python 3",
   "language": "python",
   "name": "python3"
  },
  "language_info": {
   "codemirror_mode": {
    "name": "ipython",
    "version": 3
   },
   "file_extension": ".py",
   "mimetype": "text/x-python",
   "name": "python",
   "nbconvert_exporter": "python",
   "pygments_lexer": "ipython3",
   "version": "3.7.2"
  }
 },
 "nbformat": 4,
 "nbformat_minor": 2
}
